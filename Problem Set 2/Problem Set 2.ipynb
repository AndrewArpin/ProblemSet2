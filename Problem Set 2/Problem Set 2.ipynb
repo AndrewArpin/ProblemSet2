{
 "cells": [
  {
   "cell_type": "markdown",
   "metadata": {},
   "source": [
    "# Andrew Arpin 200398857 - Problem Set 2"
   ]
  },
  {
   "cell_type": "markdown",
   "metadata": {},
   "source": [
    "# Question 1"
   ]
  },
  {
   "cell_type": "markdown",
   "metadata": {},
   "source": [
    "<center><img src=\"q1.png\"></center>"
   ]
  },
  {
   "cell_type": "markdown",
   "metadata": {},
   "source": [
    "# Answer\n",
    "The value of a will be 6.\n",
    "\n",
    "Process \n",
    "<br>\n",
    "<br>\n",
    "-Running the b function 3 times\n",
    "<br>\n",
    "-This sets a to the value of the c function \n",
    "<br>\n",
    "-Calling the c function 3 times adds 6 to a \n",
    "<br>\n",
    "-Setting a as a global is required to be able to access the var ex. print "
   ]
  },
  {
   "cell_type": "markdown",
   "metadata": {},
   "source": [
    "# Question 2"
   ]
  },
  {
   "cell_type": "markdown",
   "metadata": {},
   "source": [
    "<center><img src=\"Q2.png\"></center>"
   ]
  },
  {
   "cell_type": "code",
   "execution_count": 3,
   "metadata": {},
   "outputs": [
    {
     "name": "stdout",
     "output_type": "stream",
     "text": [
      "input format is 'filelength.txt'\n",
      "\n",
      "What is the file name: filelength.txt\n",
      "\n",
      "Total char in file is:  123\n"
     ]
    }
   ],
   "source": [
    "def fileLength():\n",
    "    try:        \n",
    "        print(\"input format is 'filelength.txt'\")\n",
    "        print()\n",
    "        #gets file namme and opens it\n",
    "        fileName = input(\"What is the file name: \")\n",
    "        infile = open(fileName, 'r')\n",
    "        file = infile.read()\n",
    "        #gets file char count\n",
    "        charCount = len(file)\n",
    "        print()\n",
    "        print(\"Total char in file is: \", charCount)\n",
    "    except:\n",
    "        #if error \n",
    "        print(\"there was an issue getting that file try agian\")\n",
    "  \n",
    "fileLength()\n",
    "    "
   ]
  },
  {
   "cell_type": "markdown",
   "metadata": {},
   "source": [
    "# Question 3\n",
    "<center><img src=\"q3A.png\"></center>\n",
    "<center><img src=\"Q3B.png\"></center>"
   ]
  },
  {
   "cell_type": "code",
   "execution_count": 42,
   "metadata": {},
   "outputs": [
    {
     "name": "stdout",
     "output_type": "stream",
     "text": [
      "added item kitten\n",
      "added item doll\n",
      "added item firetruck\n",
      "<__main__.Marsupial object at 0x0000029A71C9B430>\n"
     ]
    },
    {
     "data": {
      "text/plain": [
       "<__main__.Marsupial at 0x29a71c9b430>"
      ]
     },
     "execution_count": 42,
     "metadata": {},
     "output_type": "execute_result"
    }
   ],
   "source": [
    "\n",
    "class Marsupial:      \n",
    "    items = {'doll', 'firetruck','kitten'}\n",
    "    def __init__(self):\n",
    "        self.pouch = []\n",
    "        for item in Marsupial.items:\n",
    "            self.pouch.append(item)\n",
    "            print(\"added item \" + item)  \n",
    "        print(self)\n",
    "\n",
    "class  Kangaroo(Marsupial):\n",
    "    def __init__(self):\n",
    "        super().__init__(self)\n",
    "    \n",
    "    \n",
    "\n",
    "Marsupial()"
   ]
  },
  {
   "cell_type": "markdown",
   "metadata": {},
   "source": [
    "# Question 4\n",
    "<center><img src=\"q4.png\"></center>"
   ]
  },
  {
   "cell_type": "code",
   "execution_count": null,
   "metadata": {},
   "outputs": [],
   "source": [
    "def collatz(value):\n",
    "    #if value is not 1 - continue \n",
    "    while value != 1:\n",
    "        print(int(value))\n",
    "        #if even\n",
    "        if value % 2 == 0:\n",
    "            value = value / 2\n",
    "        #if odd\n",
    "        else: \n",
    "            value = 3 * value + 1    \n",
    "        #print 1 value \n",
    "    else:\n",
    "        print(int(value))        \n",
    "  \n",
    "#checks if int \n",
    "value = input(\"Enter a positive int: \")\n",
    "if int(value) < 0:\n",
    "    print(\"Not a positive int\")\n",
    "else:\n",
    "    collatz(int(value))"
   ]
  },
  {
   "cell_type": "markdown",
   "metadata": {},
   "source": [
    "# Question 5\n",
    "\n",
    "<center><img src=\"Q5.png\"></center>"
   ]
  },
  {
   "cell_type": "code",
   "execution_count": 15,
   "metadata": {},
   "outputs": [
    {
     "name": "stdout",
     "output_type": "stream",
     "text": [
      "Please enter a int: 5\n",
      "\n",
      "101"
     ]
    }
   ],
   "source": [
    "def binary(i):\n",
    "   if i > 1:\n",
    "    #gets remainder and runs function untill i is less than 1\n",
    "       binary(i//2)     \n",
    "    #gets and prints remainder  \n",
    "   print(i % 2, end = '')\n",
    "\n",
    "#gets value and check if positive\n",
    "intValue = input(\"Please enter a int: \")\n",
    "print()\n",
    "if int(intValue) > 0:\n",
    "    binary(int(intValue))\n",
    "else: \n",
    "    print(\"must be positive int\")\n"
   ]
  },
  {
   "cell_type": "markdown",
   "metadata": {},
   "source": [
    "# Question 6\n",
    "\n",
    "<center><img src=\"Q6.png\"></center>\n",
    "<center><img src=\"Q6A.png\"></center>"
   ]
  },
  {
   "cell_type": "code",
   "execution_count": 41,
   "metadata": {},
   "outputs": [
    {
     "name": "stdout",
     "output_type": "stream",
     "text": [
      "\n",
      "\n",
      "\n",
      "\n",
      "\n",
      "\n",
      "  \n",
      "\n",
      "  \n",
      "\n",
      "  \n",
      "Change_me\n",
      "\n",
      "  \n",
      "\n",
      "  \n",
      "\n",
      "  \n",
      "\n",
      "\n",
      "\n",
      "\n",
      "\n",
      "\n",
      "  \n",
      "\t\n",
      "\n",
      "W3C Mission\n",
      "\n",
      "\t\n",
      "\n",
      "Principles\n",
      "\n",
      " \n",
      "\n",
      "\n",
      "\n",
      "\n",
      "\n"
     ]
    }
   ],
   "source": [
    "from html.parser import HTMLParser\n",
    "class  HTMLParser(HTMLParser):\n",
    "     def handle_data(self, data):\n",
    "       print(data)    \n",
    "#looking through python documentation make it seem like hadle data is the way to get data inbetween tags how ever \n",
    "#I was unable to have it work in any meaningfull way or fitler the data with start and end  \n",
    "     def handle_starttag(self, tag, attrs):\n",
    "        if tag == 'h1' or tag == 'h2':\n",
    "        # handle_data\n",
    "            print()        \n",
    "\n",
    "\n",
    "infile = open('w3c.txt') \n",
    "content = infile.read() \n",
    "infile.close() \n",
    "htmlparser = HTMLParser() \n",
    "htmlparser.feed(content) \n"
   ]
  },
  {
   "cell_type": "code",
   "execution_count": 17,
   "metadata": {},
   "outputs": [
    {
     "name": "stdout",
     "output_type": "stream",
     "text": [
      "[('href', 'http://www.google.com')]\n",
      "[('href', 'test.html')]\n",
      "[('href', 'mailto:me@example.net')]\n"
     ]
    }
   ],
   "source": [
    "from html.parser import HTMLParser\n",
    "class LinkParser(HTMLParser):\n",
    "\n",
    "    def handle_starttag(self, tag, attrs):\n",
    "        'print value of href attribute if any'\n",
    "        if tag == 'a':\n",
    "            # search for href attribute and print its value\n",
    "            print(attrs)\n",
    "\n",
    "infile = open('links.html') \n",
    "content = infile.read() \n",
    "infile.close() \n",
    "linkparser = LinkParser() \n",
    "linkparser.feed(content) "
   ]
  },
  {
   "cell_type": "markdown",
   "metadata": {},
   "source": [
    "# Question 7\n",
    "<center><img src=\"Q7.png\"></center>"
   ]
  },
  {
   "cell_type": "code",
   "execution_count": null,
   "metadata": {},
   "outputs": [],
   "source": [
    "\n",
    "def webdir(URL, depth, indent):    \n",
    "                   \n",
    "                        \n",
    "                        \n",
    "    \n",
    "url = input(\"Enter a url: \")\n",
    "indent = input(\"Enter a indent: \")\n",
    "webdir(url, depth, indent)"
   ]
  },
  {
   "cell_type": "markdown",
   "metadata": {},
   "source": [
    "# Question 8\n",
    "<center><img src=\"Q8a.png\"></center>\n",
    "<center><img src=\"Q8B.png\"></center>"
   ]
  },
  {
   "cell_type": "code",
   "execution_count": 2,
   "metadata": {},
   "outputs": [
    {
     "name": "stdout",
     "output_type": "stream",
     "text": [
      " * sqlite://\n",
      "(sqlite3.OperationalError) no such table: City_Info\n",
      "[SQL: DROP TABLE City_Info]\n",
      "(Background on this error at: http://sqlalche.me/e/13/e3q8)\n"
     ]
    }
   ],
   "source": [
    "%lsmagic\n",
    "%load_ext sql\n",
    "%sql sqlite://\n",
    "%sql DROP TABLE City_Info"
   ]
  },
  {
   "cell_type": "code",
   "execution_count": 3,
   "metadata": {},
   "outputs": [
    {
     "name": "stdout",
     "output_type": "stream",
     "text": [
      " * sqlite://\n",
      "Done.\n"
     ]
    },
    {
     "data": {
      "text/plain": [
       "[]"
      ]
     },
     "execution_count": 3,
     "metadata": {},
     "output_type": "execute_result"
    }
   ],
   "source": [
    "%%sql\n",
    "CREATE TABLE City_Info(City varchar(50), Country varchar(50), Season varchar(10), \n",
    "                       Temperature real, Rainfall real);"
   ]
  },
  {
   "cell_type": "code",
   "execution_count": 4,
   "metadata": {},
   "outputs": [
    {
     "name": "stdout",
     "output_type": "stream",
     "text": [
      " * sqlite://\n",
      "12 rows affected.\n"
     ]
    },
    {
     "data": {
      "text/plain": [
       "[]"
      ]
     },
     "execution_count": 4,
     "metadata": {},
     "output_type": "execute_result"
    }
   ],
   "source": [
    "%%sql\n",
    "INSERT INTO City_Info VALUES('Mumbai','India', 'Winter',24.8,5.9),\n",
    "('Mumbai','India', 'Spring',28.4,16.2),\n",
    "('Mumbai','India', 'Summer',27.9,1549.4),\n",
    "('Mumbai','India', 'Fall',27.6,346),\n",
    "('London','United Kingdom', 'Winter',4.2,207.7),\n",
    "('London','United Kingdom', 'Spring',8.3,169.6),\n",
    "('London','United Kingdom', 'Summer',15.7,157),\n",
    "('London','United Kingdom', 'Fall',10.4,218.5),\n",
    "('Cairo','Egypt', 'Winter',13.6,16.5),\n",
    "('Cairo','Egypt', 'Spring',20.7,6.5),\n",
    "('Cairo','Egypt', 'Summer',27.7,0.1),\n",
    "('Cairo','Egypt', 'Fall',22.2,4.5);\n"
   ]
  },
  {
   "cell_type": "code",
   "execution_count": 5,
   "metadata": {},
   "outputs": [
    {
     "name": "stdout",
     "output_type": "stream",
     "text": [
      " * sqlite://\n",
      "Done.\n"
     ]
    },
    {
     "data": {
      "text/html": [
       "<table>\n",
       "    <tr>\n",
       "        <th>Temperature</th>\n",
       "    </tr>\n",
       "    <tr>\n",
       "        <td>24.8</td>\n",
       "    </tr>\n",
       "    <tr>\n",
       "        <td>28.4</td>\n",
       "    </tr>\n",
       "    <tr>\n",
       "        <td>27.9</td>\n",
       "    </tr>\n",
       "    <tr>\n",
       "        <td>27.6</td>\n",
       "    </tr>\n",
       "    <tr>\n",
       "        <td>4.2</td>\n",
       "    </tr>\n",
       "    <tr>\n",
       "        <td>8.3</td>\n",
       "    </tr>\n",
       "    <tr>\n",
       "        <td>15.7</td>\n",
       "    </tr>\n",
       "    <tr>\n",
       "        <td>10.4</td>\n",
       "    </tr>\n",
       "    <tr>\n",
       "        <td>13.6</td>\n",
       "    </tr>\n",
       "    <tr>\n",
       "        <td>20.7</td>\n",
       "    </tr>\n",
       "    <tr>\n",
       "        <td>27.7</td>\n",
       "    </tr>\n",
       "    <tr>\n",
       "        <td>22.2</td>\n",
       "    </tr>\n",
       "</table>"
      ],
      "text/plain": [
       "[(24.8,),\n",
       " (28.4,),\n",
       " (27.9,),\n",
       " (27.6,),\n",
       " (4.2,),\n",
       " (8.3,),\n",
       " (15.7,),\n",
       " (10.4,),\n",
       " (13.6,),\n",
       " (20.7,),\n",
       " (27.7,),\n",
       " (22.2,)]"
      ]
     },
     "execution_count": 5,
     "metadata": {},
     "output_type": "execute_result"
    }
   ],
   "source": [
    "%%sql \n",
    "SELECT Temperature FROM City_Info;"
   ]
  },
  {
   "cell_type": "code",
   "execution_count": 6,
   "metadata": {
    "scrolled": true
   },
   "outputs": [
    {
     "name": "stdout",
     "output_type": "stream",
     "text": [
      " * sqlite://\n",
      "Done.\n"
     ]
    },
    {
     "data": {
      "text/html": [
       "<table>\n",
       "    <tr>\n",
       "        <th>City</th>\n",
       "    </tr>\n",
       "    <tr>\n",
       "        <td>Mumbai</td>\n",
       "    </tr>\n",
       "    <tr>\n",
       "        <td>London</td>\n",
       "    </tr>\n",
       "    <tr>\n",
       "        <td>Cairo</td>\n",
       "    </tr>\n",
       "</table>"
      ],
      "text/plain": [
       "[('Mumbai',), ('London',), ('Cairo',)]"
      ]
     },
     "execution_count": 6,
     "metadata": {},
     "output_type": "execute_result"
    }
   ],
   "source": [
    "%%sql \n",
    "SELECT DISTINCT City FROM City_Info;"
   ]
  },
  {
   "cell_type": "code",
   "execution_count": 7,
   "metadata": {},
   "outputs": [
    {
     "name": "stdout",
     "output_type": "stream",
     "text": [
      " * sqlite://\n",
      "Done.\n"
     ]
    },
    {
     "data": {
      "text/html": [
       "<table>\n",
       "    <tr>\n",
       "        <th>City</th>\n",
       "        <th>Country</th>\n",
       "        <th>Season</th>\n",
       "        <th>Temperature</th>\n",
       "        <th>Rainfall</th>\n",
       "    </tr>\n",
       "    <tr>\n",
       "        <td>Mumbai</td>\n",
       "        <td>India</td>\n",
       "        <td>Winter</td>\n",
       "        <td>24.8</td>\n",
       "        <td>5.9</td>\n",
       "    </tr>\n",
       "    <tr>\n",
       "        <td>Mumbai</td>\n",
       "        <td>India</td>\n",
       "        <td>Spring</td>\n",
       "        <td>28.4</td>\n",
       "        <td>16.2</td>\n",
       "    </tr>\n",
       "    <tr>\n",
       "        <td>Mumbai</td>\n",
       "        <td>India</td>\n",
       "        <td>Summer</td>\n",
       "        <td>27.9</td>\n",
       "        <td>1549.4</td>\n",
       "    </tr>\n",
       "    <tr>\n",
       "        <td>Mumbai</td>\n",
       "        <td>India</td>\n",
       "        <td>Fall</td>\n",
       "        <td>27.6</td>\n",
       "        <td>346.0</td>\n",
       "    </tr>\n",
       "</table>"
      ],
      "text/plain": [
       "[('Mumbai', 'India', 'Winter', 24.8, 5.9),\n",
       " ('Mumbai', 'India', 'Spring', 28.4, 16.2),\n",
       " ('Mumbai', 'India', 'Summer', 27.9, 1549.4),\n",
       " ('Mumbai', 'India', 'Fall', 27.6, 346.0)]"
      ]
     },
     "execution_count": 7,
     "metadata": {},
     "output_type": "execute_result"
    }
   ],
   "source": [
    "%%sql\n",
    "SELECT * FROM City_Info WHERE Country = \"India\";"
   ]
  },
  {
   "cell_type": "code",
   "execution_count": 8,
   "metadata": {
    "scrolled": true
   },
   "outputs": [
    {
     "name": "stdout",
     "output_type": "stream",
     "text": [
      " * sqlite://\n",
      "Done.\n"
     ]
    },
    {
     "data": {
      "text/html": [
       "<table>\n",
       "    <tr>\n",
       "        <th>City</th>\n",
       "        <th>Country</th>\n",
       "        <th>Season</th>\n",
       "        <th>Temperature</th>\n",
       "        <th>Rainfall</th>\n",
       "    </tr>\n",
       "    <tr>\n",
       "        <td>Mumbai</td>\n",
       "        <td>India</td>\n",
       "        <td>Fall</td>\n",
       "        <td>27.6</td>\n",
       "        <td>346.0</td>\n",
       "    </tr>\n",
       "    <tr>\n",
       "        <td>London</td>\n",
       "        <td>United Kingdom</td>\n",
       "        <td>Fall</td>\n",
       "        <td>10.4</td>\n",
       "        <td>218.5</td>\n",
       "    </tr>\n",
       "    <tr>\n",
       "        <td>Cairo</td>\n",
       "        <td>Egypt</td>\n",
       "        <td>Fall</td>\n",
       "        <td>22.2</td>\n",
       "        <td>4.5</td>\n",
       "    </tr>\n",
       "</table>"
      ],
      "text/plain": [
       "[('Mumbai', 'India', 'Fall', 27.6, 346.0),\n",
       " ('London', 'United Kingdom', 'Fall', 10.4, 218.5),\n",
       " ('Cairo', 'Egypt', 'Fall', 22.2, 4.5)]"
      ]
     },
     "execution_count": 8,
     "metadata": {},
     "output_type": "execute_result"
    }
   ],
   "source": [
    "%%sql\n",
    "SELECT * FROM City_Info WHERE Season = \"Fall\";"
   ]
  },
  {
   "cell_type": "code",
   "execution_count": 9,
   "metadata": {},
   "outputs": [
    {
     "name": "stdout",
     "output_type": "stream",
     "text": [
      " * sqlite://\n",
      "Done.\n"
     ]
    },
    {
     "data": {
      "text/html": [
       "<table>\n",
       "    <tr>\n",
       "        <th>City</th>\n",
       "        <th>Country</th>\n",
       "        <th>Season</th>\n",
       "    </tr>\n",
       "    <tr>\n",
       "        <td>Mumbai</td>\n",
       "        <td>India</td>\n",
       "        <td>Fall</td>\n",
       "    </tr>\n",
       "    <tr>\n",
       "        <td>London</td>\n",
       "        <td>United Kingdom</td>\n",
       "        <td>Winter</td>\n",
       "    </tr>\n",
       "    <tr>\n",
       "        <td>London</td>\n",
       "        <td>United Kingdom</td>\n",
       "        <td>Fall</td>\n",
       "    </tr>\n",
       "</table>"
      ],
      "text/plain": [
       "[('Mumbai', 'India', 'Fall'),\n",
       " ('London', 'United Kingdom', 'Winter'),\n",
       " ('London', 'United Kingdom', 'Fall')]"
      ]
     },
     "execution_count": 9,
     "metadata": {},
     "output_type": "execute_result"
    }
   ],
   "source": [
    "%%sql\n",
    "SELECT City, Country, Season FROM City_Info WHERE Rainfall > 200 AND Rainfall < 400;"
   ]
  },
  {
   "cell_type": "code",
   "execution_count": 10,
   "metadata": {},
   "outputs": [
    {
     "name": "stdout",
     "output_type": "stream",
     "text": [
      " * sqlite://\n",
      "Done.\n"
     ]
    },
    {
     "data": {
      "text/html": [
       "<table>\n",
       "    <tr>\n",
       "        <th>City</th>\n",
       "        <th>Country</th>\n",
       "    </tr>\n",
       "    <tr>\n",
       "        <td>Cairo</td>\n",
       "        <td>Egypt</td>\n",
       "    </tr>\n",
       "    <tr>\n",
       "        <td>Mumbai</td>\n",
       "        <td>India</td>\n",
       "    </tr>\n",
       "</table>"
      ],
      "text/plain": [
       "[('Cairo', 'Egypt'), ('Mumbai', 'India')]"
      ]
     },
     "execution_count": 10,
     "metadata": {},
     "output_type": "execute_result"
    }
   ],
   "source": [
    "%%sql\n",
    "SELECT City, Country FROM City_Info WHERE Season = \"Fall\" AND Temperature > 20\n",
    "ORDER BY Temperature ASC;"
   ]
  },
  {
   "cell_type": "code",
   "execution_count": 11,
   "metadata": {},
   "outputs": [
    {
     "name": "stdout",
     "output_type": "stream",
     "text": [
      " * sqlite://\n",
      "Done.\n"
     ]
    },
    {
     "data": {
      "text/html": [
       "<table>\n",
       "    <tr>\n",
       "        <th>SUM(Rainfall)</th>\n",
       "    </tr>\n",
       "    <tr>\n",
       "        <td>27.6</td>\n",
       "    </tr>\n",
       "</table>"
      ],
      "text/plain": [
       "[(27.6,)]"
      ]
     },
     "execution_count": 11,
     "metadata": {},
     "output_type": "execute_result"
    }
   ],
   "source": [
    "%%sql\n",
    "SELECT SUM(Rainfall)\n",
    "FROM City_Info\n",
    "WHERE City = \"Cairo\""
   ]
  },
  {
   "cell_type": "code",
   "execution_count": 13,
   "metadata": {},
   "outputs": [
    {
     "name": "stdout",
     "output_type": "stream",
     "text": [
      " * sqlite://\n",
      "Done.\n"
     ]
    },
    {
     "data": {
      "text/html": [
       "<table>\n",
       "    <tr>\n",
       "        <th>Season</th>\n",
       "        <th>SUM(RainFall)</th>\n",
       "    </tr>\n",
       "    <tr>\n",
       "        <td>Fall</td>\n",
       "        <td>569.0</td>\n",
       "    </tr>\n",
       "    <tr>\n",
       "        <td>Spring</td>\n",
       "        <td>192.29999999999998</td>\n",
       "    </tr>\n",
       "    <tr>\n",
       "        <td>Summer</td>\n",
       "        <td>1706.5</td>\n",
       "    </tr>\n",
       "    <tr>\n",
       "        <td>Winter</td>\n",
       "        <td>230.1</td>\n",
       "    </tr>\n",
       "</table>"
      ],
      "text/plain": [
       "[('Fall', 569.0),\n",
       " ('Spring', 192.29999999999998),\n",
       " ('Summer', 1706.5),\n",
       " ('Winter', 230.1)]"
      ]
     },
     "execution_count": 13,
     "metadata": {},
     "output_type": "execute_result"
    }
   ],
   "source": [
    "%%sql\n",
    "SELECT  Season, SUM(RainFall)\n",
    "FROM City_Info \n",
    "GROUP BY Season\n"
   ]
  },
  {
   "cell_type": "markdown",
   "metadata": {},
   "source": [
    "# Question 9\n",
    "<center><img src=\"Q9.png\"></center>"
   ]
  },
  {
   "cell_type": "code",
   "execution_count": 45,
   "metadata": {},
   "outputs": [
    {
     "name": "stdout",
     "output_type": "stream",
     "text": [
      "['THE', 'QUICK', 'BROWN', 'FOX', 'JUMPS', 'OVER', 'THE', 'LAZY', 'DOG']\n",
      "['the', 'quick', 'brown', 'fox', 'jumps', 'over', 'the', 'lazy', 'dog']\n",
      "[3, 5, 5, 3, 5, 4, 3, 4, 3]\n",
      "['THE', 'QUICK', 'BROWN', 'FOX', 'JUMPS', 'OVER', 'THE', 'LAZY', 'DOG', 'the', 'quick', 'brown', 'fox', 'jumps', 'over', 'the', 'lazy', 'dog', 3, 5, 5, 3, 5, 4, 3, 4, 3]\n",
      "['quick', 'brown', 'jumps', 'over', 'lazy']\n"
     ]
    }
   ],
   "source": [
    "words = ['The', 'quick', 'brown', 'fox', 'jumps', 'over','the', 'lazy', 'dog']\n",
    "def listComprehension(): \n",
    "    #sets to upper\n",
    "    upper = [i.upper() for i in words]\n",
    "    print (str(upper))\n",
    "    #sets to lower\n",
    "    lower = [i.lower() for i in words]\n",
    "    print (str(lower))\n",
    "    #gets length\n",
    "    count = [len(i) for i in words]\n",
    "    print (str(count))    \n",
    " \n",
    "    all = upper + lower + count   \n",
    "    print(all)\n",
    "    \n",
    "    # if length greater than 4\n",
    "    length4 = [i for i in words if len(i) >= 4]\n",
    "    print (str(length4))\n",
    "    \n",
    "    \n",
    "        \n",
    "listComprehension()"
   ]
  }
 ],
 "metadata": {
  "kernelspec": {
   "display_name": "Python 3",
   "language": "python",
   "name": "python3"
  },
  "language_info": {
   "codemirror_mode": {
    "name": "ipython",
    "version": 3
   },
   "file_extension": ".py",
   "mimetype": "text/x-python",
   "name": "python",
   "nbconvert_exporter": "python",
   "pygments_lexer": "ipython3",
   "version": "3.8.5"
  }
 },
 "nbformat": 4,
 "nbformat_minor": 4
}
